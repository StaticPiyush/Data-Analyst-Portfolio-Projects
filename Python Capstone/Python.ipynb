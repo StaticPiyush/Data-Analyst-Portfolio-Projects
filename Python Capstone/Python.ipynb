{
 "cells": [
  {
   "cell_type": "markdown",
   "id": "b564114b-2c07-4574-953e-e987d0b199f3",
   "metadata": {},
   "source": [
    "        Task 1 - creating DataFrame and saving as csv"
   ]
  },
  {
   "cell_type": "code",
   "execution_count": 9,
   "id": "cf13f26e-4f28-46a7-9ea1-864295831784",
   "metadata": {},
   "outputs": [],
   "source": [
    "import numpy as np\n",
    "import pandas as pd\n",
    "\n",
    "# Employee Data\n",
    "employee_data = {\n",
    "    \"ID\": [\"A001\", \"A002\", \"A003\", \"A004\", \"A005\"],\n",
    "    \"Name\": [\"John Alter\", \"Alice Luxumberg\", \"Tom Sabestine\", \"Nina Adgra\", \"Amy Johny\"],\n",
    "    \"Gender\": [\"M\", \"F\", \"M\", \"F\", \"F\"],\n",
    "    \"City\": [\"Paris\", \"London\", \"Berlin\", \"Newyork\", \"Madrid\"],\n",
    "    \"Age\": [25, 27, 29, 31, 30]\n",
    "}\n",
    "df_employee = pd.DataFrame(employee_data)\n",
    "\n",
    "# Seniority Level Data\n",
    "seniority_data = {\n",
    "    \"ID\": [\"A001\", \"A002\", \"A003\", \"A004\", \"A005\"],\n",
    "    \"Designation Level\": [2, 2, 3, 2, 3]\n",
    "}\n",
    "df_seniority = pd.DataFrame(seniority_data)\n",
    "\n",
    "# Project Data (with some missing costs)\n",
    "project_data = {\n",
    "    \"ID\": [\"A001\", \"A002\", \"A003\", \"A004\", \"A005\", \"A002\", \"A005\", \"A003\", \"A001\", \"A003\", \"A001\", \"A004\", \"A004\", \"A005\"],\n",
    "    \"Project\": [\"Project 1\", \"Project 2\", \"Project 3\", \"Project 4\", \"Project 5\", \"Project 6\", \"Project 7\",\n",
    "                \"Project 8\", \"Project 9\", \"Project 10\", \"Project 11\", \"Project 12\", \"Project 13\", \"Project 14\"],\n",
    "    \"Cost\": [1002000, 2000000, 4500000, 5500000, np.nan, 680000, 400000, 350000, np.nan, 300000, 2000000, 1000000, 3000000, 200000],\n",
    "    \"Status\": [\"Finished\", \"Ongoing\", \"Finished\", \"Ongoing\", \"Finished\", \"Failed\", \"Finished\", \"Failed\",\n",
    "               \"Ongoing\", \"Finished\", \"Failed\", \"Ongoing\", \"Finished\", \"Finished\"]\n",
    "}\n",
    "df_project = pd.DataFrame(project_data)\n",
    "\n",
    "# Save to CSVs (for Task 2–10 to read from)\n",
    "df_employee.to_csv(\"employee.csv\", index=False)\n",
    "df_seniority.to_csv(\"seniority.csv\", index=False)\n",
    "df_project.to_csv(\"project.csv\", index=False)"
   ]
  },
  {
   "cell_type": "markdown",
   "id": "f02b8145-02ab-4be2-bde3-6a4bad99abf4",
   "metadata": {},
   "source": [
    "        Task 2 - filling the missing values in \"Project\" DataFrame"
   ]
  },
  {
   "cell_type": "code",
   "execution_count": 10,
   "id": "e969f0ee-c17a-4677-a8d4-9b6d9bc71acd",
   "metadata": {},
   "outputs": [],
   "source": [
    "df_project = pd.read_csv('project.csv')\n",
    "\n",
    "costs = df_project[\"Cost\"].tolist() #converting to python list\n",
    "\n",
    "for i in range(len(costs)):\n",
    "    if pd.isna(costs[i]):  # If missing value in cost i.e NaN\n",
    "        running_sum = 0\n",
    "        count = 0\n",
    "        for j in range(i):  # Loop over earlier values\n",
    "            if not pd.isna(costs[j]): # Taking non 0 values\n",
    "                running_sum += costs[j] # Adding the costs\n",
    "                count += 1\n",
    "        if count > 0:\n",
    "            costs[i] = running_sum / count # Running average\n",
    "\n",
    "df_project[\"Cost\"] = costs  # updating the complete Cost column\n",
    "\n",
    "df_project.to_csv(\"project.csv\", index=False)  # saving the changes to project.csv"
   ]
  },
  {
   "cell_type": "markdown",
   "id": "7067ce1b-edda-4d7a-8610-4a7262ec98ee",
   "metadata": {},
   "source": [
    "        Task 3: Split Name into First and Last Name"
   ]
  },
  {
   "cell_type": "code",
   "execution_count": 11,
   "id": "46c83982-9345-4cbb-919a-7d4a2d3b794f",
   "metadata": {},
   "outputs": [],
   "source": [
    "df_employee = pd.read_csv(\"employee.csv\") # Reading employee.csv file\n",
    "df_employee[['First Name', 'Last Name']] = df_employee['Name'].str.split(' ', expand=True) # splitting name into two separate columns\n",
    "df_employee.drop(columns='Name', inplace=True) # removing existing 'name' column\n",
    "df_employee.to_csv(\"employee.csv\", index=False) # saving the changes to 'employee.csv' file"
   ]
  },
  {
   "cell_type": "markdown",
   "id": "3dda8a46-6a22-4cc9-9fc5-e73e5ab91255",
   "metadata": {},
   "source": [
    "        Task 4: Merge All Three DataFrames"
   ]
  },
  {
   "cell_type": "code",
   "execution_count": 12,
   "id": "59b2a8b9-ac35-4541-8574-44fdfcbdda1e",
   "metadata": {},
   "outputs": [],
   "source": [
    "df_employee = pd.read_csv(\"employee.csv\")\n",
    "df_project = pd.read_csv(\"project.csv\")\n",
    "df_seniority = pd.read_csv(\"seniority.csv\") # reading all three dataFrames\n",
    "\n",
    "df_merged1 = pd.merge(df_project, df_employee, on=\"ID\", how=\"left\") # left joining employee dataFrame on project dataFrame\n",
    "df_final = pd.merge(df_merged1, df_seniority, on=\"ID\", how=\"left\")  # left joining seniority level dataFrame on merged dataFrame\n",
    "\n",
    "df_final.to_csv(\"final.csv\", index=False) # saving the changes to final.csv"
   ]
  },
  {
   "cell_type": "markdown",
   "id": "8306803d-8d43-4663-b3e1-54b44eb960a2",
   "metadata": {},
   "source": [
    "        Task 5: Add Bonus Column (5% of Cost if Finished) in final DataFrame"
   ]
  },
  {
   "cell_type": "code",
   "execution_count": 13,
   "id": "494f6d46-5909-4fb0-aef7-8b4c9c42ba56",
   "metadata": {},
   "outputs": [],
   "source": [
    "df_final = pd.read_csv(\"final.csv\") # opening the final merged dataFrame\n",
    "df_final.loc[df_final['Status'] == 'Finished', 'Bonus'] = 0.05 * df_final['Cost'] # locating the row and bonus column with status finished\n",
    "df_final.to_csv(\"final.csv\", index=False) # saving the changes to final.csv"
   ]
  },
  {
   "cell_type": "markdown",
   "id": "e4e4d19f-b541-45f3-b244-26e1bef21313",
   "metadata": {},
   "source": [
    "        Task 6: Demote Failed Project Heads & Remove > Level 4"
   ]
  },
  {
   "cell_type": "code",
   "execution_count": 14,
   "id": "02570cfd-1741-4863-b565-9c548636215e",
   "metadata": {},
   "outputs": [],
   "source": [
    "df_final = pd.read_csv(\"final.csv\") # opening the final merged dataFrame\n",
    "df_final.loc[df_final['Status']=='Failed', 'Designation Level'] +=1 # increasing designation level if status is failed\n",
    "df_final=df_final[df_final['Designation Level']<=4] # only keeping those rows whose designation level is less than 4\n",
    "df_final.to_csv(\"final.csv\", index=False) # saving the changes to final.csv"
   ]
  },
  {
   "cell_type": "markdown",
   "id": "dc9803ba-b036-43ac-afa8-00ede0cc5c51",
   "metadata": {},
   "source": [
    "        Task 7: Prefix Mr./Mrs. and Drop Gender Column"
   ]
  },
  {
   "cell_type": "code",
   "execution_count": 15,
   "id": "b67a7657-dcd3-4c8b-9886-f56076a33e5b",
   "metadata": {},
   "outputs": [],
   "source": [
    "df_final = pd.read_csv(\"final.csv\") # opening the final merged dataFrame\n",
    "df_final['First Name'] = np.where(\n",
    "    df_final['Gender'] == 'M',\n",
    "    'Mr. ' + df_final['First Name'],\n",
    "    'Mrs. ' + df_final['First Name'] \n",
    ")                                            # searching the Gender and changing first names\n",
    "df_final.drop(columns='Gender', inplace=True) # Dropping the gender column\n",
    "df_final.to_csv(\"final.csv\", index=False) # saving the changes to final.csv"
   ]
  },
  {
   "cell_type": "markdown",
   "id": "9a61d61c-aec1-4e40-b68e-274832ee2c71",
   "metadata": {},
   "source": [
    "        Task 8: Promote employee whose Age > 29 by 1 Designation Level"
   ]
  },
  {
   "cell_type": "code",
   "execution_count": 16,
   "id": "b7078aef-bf71-4a8a-8146-47b68cd4999c",
   "metadata": {},
   "outputs": [],
   "source": [
    "df_final = pd.read_csv(\"final.csv\") # opening the final merged dataFrame\n",
    "df_final['Designation Level'] = df_final.apply(\n",
    "    lambda row: max(1, row['Designation Level'] - 1) if row['Age'] > 29 else row['Designation Level'],\n",
    "    axis=1\n",
    ")  # Checking the row if Age > 29 and then applying -1 for increasing the designation level\n",
    "df_final.to_csv(\"final.csv\", index=False) # saving the changes to final.csv"
   ]
  },
  {
   "cell_type": "markdown",
   "id": "28db328e-86b7-4b88-90fc-d9e133677ff7",
   "metadata": {},
   "source": [
    "        Task 9: Total Project Cost per Employee"
   ]
  },
  {
   "cell_type": "code",
   "execution_count": 17,
   "id": "e6f403ec-a16b-4dad-896c-bb6e6c9dbb87",
   "metadata": {},
   "outputs": [],
   "source": [
    "df_final = pd.read_csv(\"final.csv\") # opening the final merged dataFrame\n",
    "total_project_cost= df_final.groupby(['ID','First Name'])['Cost'].sum().reset_index(name='Total Cost') \n",
    "# Creating new dataFrame, calculating total cost by grouping ID and firstname\n",
    "total_project_cost.to_csv(\"Total_project_cost.csv\",index=False) # saving as new file"
   ]
  },
  {
   "cell_type": "markdown",
   "id": "351ac9f0-e6ad-4d27-be16-56647170f754",
   "metadata": {},
   "source": [
    "        Task 10: Employees from Cities Containing \"o\""
   ]
  },
  {
   "cell_type": "code",
   "execution_count": 18,
   "id": "e44fcdb6-0043-48e1-8807-a687077fbc59",
   "metadata": {},
   "outputs": [
    {
     "data": {
      "text/html": [
       "<div>\n",
       "<style scoped>\n",
       "    .dataframe tbody tr th:only-of-type {\n",
       "        vertical-align: middle;\n",
       "    }\n",
       "\n",
       "    .dataframe tbody tr th {\n",
       "        vertical-align: top;\n",
       "    }\n",
       "\n",
       "    .dataframe thead th {\n",
       "        text-align: right;\n",
       "    }\n",
       "</style>\n",
       "<table border=\"1\" class=\"dataframe\">\n",
       "  <thead>\n",
       "    <tr style=\"text-align: right;\">\n",
       "      <th></th>\n",
       "      <th>ID</th>\n",
       "      <th>Gender</th>\n",
       "      <th>City</th>\n",
       "      <th>Age</th>\n",
       "      <th>First Name</th>\n",
       "      <th>Last Name</th>\n",
       "    </tr>\n",
       "  </thead>\n",
       "  <tbody>\n",
       "    <tr>\n",
       "      <th>1</th>\n",
       "      <td>A002</td>\n",
       "      <td>F</td>\n",
       "      <td>London</td>\n",
       "      <td>27</td>\n",
       "      <td>Alice</td>\n",
       "      <td>Luxumberg</td>\n",
       "    </tr>\n",
       "    <tr>\n",
       "      <th>3</th>\n",
       "      <td>A004</td>\n",
       "      <td>F</td>\n",
       "      <td>Newyork</td>\n",
       "      <td>31</td>\n",
       "      <td>Nina</td>\n",
       "      <td>Adgra</td>\n",
       "    </tr>\n",
       "  </tbody>\n",
       "</table>\n",
       "</div>"
      ],
      "text/plain": [
       "     ID Gender     City  Age First Name  Last Name\n",
       "1  A002      F   London   27      Alice  Luxumberg\n",
       "3  A004      F  Newyork   31       Nina      Adgra"
      ]
     },
     "execution_count": 18,
     "metadata": {},
     "output_type": "execute_result"
    }
   ],
   "source": [
    "df_employee = pd.read_csv(\"employee.csv\") # Reading employee.csv file\n",
    "filtered_emp=df_employee[df_employee['City'].str.contains('o' ,case=False)] # filtering employee based on letter\n",
    "filtered_emp # printing the dataframe"
   ]
  },
  {
   "cell_type": "code",
   "execution_count": null,
   "id": "cfefb1e6-d4b5-48ac-9fc9-4973e33a3d8f",
   "metadata": {},
   "outputs": [],
   "source": []
  }
 ],
 "metadata": {
  "kernelspec": {
   "display_name": "Python 3 (ipykernel)",
   "language": "python",
   "name": "python3"
  },
  "language_info": {
   "codemirror_mode": {
    "name": "ipython",
    "version": 3
   },
   "file_extension": ".py",
   "mimetype": "text/x-python",
   "name": "python",
   "nbconvert_exporter": "python",
   "pygments_lexer": "ipython3",
   "version": "3.13.5"
  }
 },
 "nbformat": 4,
 "nbformat_minor": 5
}
